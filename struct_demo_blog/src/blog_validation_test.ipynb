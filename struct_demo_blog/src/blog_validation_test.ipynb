{
  "cells": [
    {
      "cell_type": "markdown",
      "metadata": {},
      "source": [
        "# Modern Approaches to Struct Aggregation in Databricks\n",
        "\n",
        "## Working with Nested Healthcare Data: Struct vs VARIANT Approaches\n",
        "\n",
        "This notebook demonstrates different approaches for working with nested data in Databricks, comparing traditional struct approaches with modern VARIANT data types. We'll explore both deprecated and modern syntax for each approach.\n",
        "\n",
        "### 📋 What You'll Learn:\n",
        "- **Struct Approach**: Deprecated `LATERAL VIEW` vs modern table-valued functions\n",
        "- **VARIANT Approach**: Modern schema-less data handling (Databricks Runtime 15.3+)\n",
        "- **Higher-Order Functions**: Efficient aggregation without row explosion\n",
        "- **Performance Comparison**: When to use each approach\n",
        "\n",
        "### 🏥 Use Case: Healthcare Claims Processing\n",
        "We'll work with a realistic nested data structure representing medical claims with header information and detailed line items.\n",
        "\n",
        "### 🔄 Flow Overview:\n",
        "1. **Struct Approach** - Data setup, deprecated querying, and modern querying\n",
        "2. **VARIANT Approach** - Data setup, basic querying, and array explosion\n",
        "3. **Higher-Order Functions** - Efficient aggregation for both approaches\n",
        "4. **Comparison & Recommendations** - When to use each approach\n"
      ]
    },
    {
      "cell_type": "code",
      "execution_count": 1,
      "metadata": {},
      "outputs": [],
      "source": [
        "from pyspark.sql import SparkSession\n",
        "from pyspark.sql.types import *\n",
        "from pyspark.sql.functions import *\n",
        "\n",
        "# Initialize Spark session\n",
        "spark = SparkSession.builder.appName(\"BlogValidationTest\").getOrCreate()\n"
      ]
    },
    {
      "cell_type": "markdown",
      "metadata": {},
      "source": [
        "## 1. Struct Approach\n",
        "\n",
        "Let's start with the traditional struct approach using explicit schemas. This is the most common way to handle nested data in Databricks.\n",
        "\n",
        "Each claim has:\n",
        "- **Header information**: claim ID, line of business, total charges\n",
        "- **Detail array**: individual charge line items with amounts and units\n"
      ]
    },
    {
      "cell_type": "markdown",
      "metadata": {},
      "source": [
        "### 1.1 Struct Data Setup\n",
        "\n",
        "Let's create the data using traditional structured types with explicit schemas:\n"
      ]
    },
    {
      "cell_type": "code",
      "execution_count": 2,
      "metadata": {},
      "outputs": [
        {
          "name": "stdout",
          "output_type": "stream",
          "text": [
            "Created test data:\n",
            "+------------------------------+-------------------------+\n",
            "|claimHeader                   |claimDetail              |\n",
            "+------------------------------+-------------------------+\n",
            "|{ABC123456789, Medicaid, 3.25}|[{1.25, 1.0}, {2.0, 1.0}]|\n",
            "+------------------------------+-------------------------+\n",
            "\n",
            "root\n",
            " |-- claimHeader: struct (nullable = true)\n",
            " |    |-- claimId: string (nullable = true)\n",
            " |    |-- lineOfBusiness: string (nullable = true)\n",
            " |    |-- totalCharges: double (nullable = true)\n",
            " |-- claimDetail: array (nullable = true)\n",
            " |    |-- element: struct (containsNull = true)\n",
            " |    |    |-- chargeAmount: double (nullable = true)\n",
            " |    |    |-- units: double (nullable = true)\n",
            "\n"
          ]
        }
      ],
      "source": [
        "# Create the nested data structure matching the blog screenshot\n",
        "medicaid_data = [\n",
        "    {\n",
        "        \"claimHeader\": {\n",
        "            \"claimId\": \"ABC123456789\",\n",
        "            \"lineOfBusiness\": \"Medicaid\",\n",
        "            \"totalCharges\": 3.25\n",
        "        },\n",
        "        \"claimDetail\": [\n",
        "            {\"chargeAmount\": 1.25, \"units\": 1.00},\n",
        "            {\"chargeAmount\": 2.00, \"units\": 1.00}\n",
        "        ]\n",
        "    }\n",
        "]\n",
        "\n",
        "# Define the schema\n",
        "schema = StructType([\n",
        "    StructField(\"claimHeader\", StructType([\n",
        "        StructField(\"claimId\", StringType(), True),\n",
        "        StructField(\"lineOfBusiness\", StringType(), True),\n",
        "        StructField(\"totalCharges\", DoubleType(), True)\n",
        "    ]), True),\n",
        "    StructField(\"claimDetail\", ArrayType(StructType([\n",
        "        StructField(\"chargeAmount\", DoubleType(), True),\n",
        "        StructField(\"units\", DoubleType(), True)\n",
        "    ])), True)\n",
        "])\n",
        "\n",
        "# Create DataFrame\n",
        "myClaimsTable = spark.createDataFrame(medicaid_data, schema)\n",
        "myClaimsTable.createOrReplaceTempView(\"myClaimsTable\")\n",
        "\n",
        "print(\"Created test data:\")\n",
        "myClaimsTable.show(truncate=False)\n",
        "myClaimsTable.printSchema()\n"
      ]
    },
    {
      "cell_type": "markdown",
      "metadata": {},
      "source": [
        "### 1.2 Struct Querying: Deprecated Approach ❌\n",
        "\n",
        "⚠️ **Important**: `LATERAL VIEW` is deprecated in Databricks Runtime 12.2+ but still works. This shows the old syntax for comparison.\n"
      ]
    },
    {
      "cell_type": "code",
      "execution_count": 3,
      "metadata": {
        "vscode": {
          "languageId": "sql"
        }
      },
      "outputs": [
        {
          "data": {
            "application/vnd.jupyter.widget-view+json": {
              "model_id": "192d75c699414a21b144abe574ff1221",
              "version_major": 2,
              "version_minor": 0
            },
            "text/plain": [
              "HBox(children=(IntProgress(value=0, bar_style='success'), Label(value='')))"
            ]
          },
          "metadata": {},
          "output_type": "display_data"
        },
        {
          "data": {
            "text/html": [
              "<table border=\"1\" class=\"dataframe\">\n",
              "  <thead>\n",
              "    <tr style=\"text-align: right;\">\n",
              "      <th></th>\n",
              "      <th>claimId</th>\n",
              "      <th>lineOfBusiness</th>\n",
              "      <th>chargeAmount</th>\n",
              "      <th>units</th>\n",
              "    </tr>\n",
              "  </thead>\n",
              "  <tbody>\n",
              "    <tr>\n",
              "      <th>0</th>\n",
              "      <td>ABC123456789</td>\n",
              "      <td>Medicaid</td>\n",
              "      <td>1.25</td>\n",
              "      <td>1.0</td>\n",
              "    </tr>\n",
              "    <tr>\n",
              "      <th>1</th>\n",
              "      <td>ABC123456789</td>\n",
              "      <td>Medicaid</td>\n",
              "      <td>2.00</td>\n",
              "      <td>1.0</td>\n",
              "    </tr>\n",
              "  </tbody>\n",
              "</table>"
            ],
            "text/plain": [
              "DataFrame[claimId: string, lineOfBusiness: string, chargeAmount: double, units: double]"
            ]
          },
          "execution_count": 3,
          "metadata": {},
          "output_type": "execute_result"
        }
      ],
      "source": [
        "%sql\n",
        "-- DEPRECATED SYNTAX (still works but not recommended)\n",
        "SELECT \n",
        "    claimHeader.claimId,\n",
        "    claimHeader.lineOfBusiness,\n",
        "    d.chargeAmount,\n",
        "    d.units\n",
        "FROM myClaimsTable\n",
        "LATERAL VIEW explode(claimDetail) AS d\n"
      ]
    },
    {
      "cell_type": "markdown",
      "metadata": {},
      "source": [
        "### 1.3 Struct Querying: Modern Approach ✅\n",
        "\n",
        "**Recommended for Databricks Runtime 12.2+**\n",
        "\n",
        "This is the modern way to explode arrays using table-valued functions as table references:\n"
      ]
    },
    {
      "cell_type": "code",
      "execution_count": 4,
      "metadata": {
        "vscode": {
          "languageId": "sql"
        }
      },
      "outputs": [
        {
          "data": {
            "application/vnd.jupyter.widget-view+json": {
              "model_id": "86677c81d0ba4e7782ce93ddbff2a039",
              "version_major": 2,
              "version_minor": 0
            },
            "text/plain": [
              "HBox(children=(IntProgress(value=0, bar_style='success'), Label(value='')))"
            ]
          },
          "metadata": {},
          "output_type": "display_data"
        },
        {
          "data": {
            "text/html": [
              "<table border=\"1\" class=\"dataframe\">\n",
              "  <thead>\n",
              "    <tr style=\"text-align: right;\">\n",
              "      <th></th>\n",
              "      <th>claimId</th>\n",
              "      <th>lineOfBusiness</th>\n",
              "      <th>chargeAmount</th>\n",
              "      <th>units</th>\n",
              "    </tr>\n",
              "  </thead>\n",
              "  <tbody>\n",
              "    <tr>\n",
              "      <th>0</th>\n",
              "      <td>ABC123456789</td>\n",
              "      <td>Medicaid</td>\n",
              "      <td>1.25</td>\n",
              "      <td>1.0</td>\n",
              "    </tr>\n",
              "    <tr>\n",
              "      <th>1</th>\n",
              "      <td>ABC123456789</td>\n",
              "      <td>Medicaid</td>\n",
              "      <td>2.00</td>\n",
              "      <td>1.0</td>\n",
              "    </tr>\n",
              "  </tbody>\n",
              "</table>"
            ],
            "text/plain": [
              "DataFrame[claimId: string, lineOfBusiness: string, chargeAmount: double, units: double]"
            ]
          },
          "execution_count": 4,
          "metadata": {},
          "output_type": "execute_result"
        }
      ],
      "source": [
        "%sql\n",
        "-- MODERN SYNTAX (Recommended for Runtime 12.2+)\n",
        "SELECT \n",
        "    claimHeader.claimId,\n",
        "    claimHeader.lineOfBusiness,\n",
        "    d.col.chargeAmount,\n",
        "    d.col.units\n",
        "FROM myClaimsTable,\n",
        "    LATERAL explode(claimDetail) AS d\n"
      ]
    },
    {
      "cell_type": "markdown",
      "metadata": {},
      "source": [
        "## 2. VARIANT Approach\n",
        "\n",
        "Now let's explore the modern VARIANT data type (Databricks Runtime 15.3+), which is more flexible for semi-structured data:\n"
      ]
    },
    {
      "cell_type": "markdown",
      "metadata": {},
      "source": [
        "### 2.1 VARIANT Data Setup\n",
        "\n",
        "Let's create the same data using the modern VARIANT data type:\n"
      ]
    },
    {
      "cell_type": "code",
      "execution_count": 5,
      "metadata": {},
      "outputs": [
        {
          "name": "stdout",
          "output_type": "stream",
          "text": [
            "Created VARIANT data:\n"
          ]
        },
        {
          "data": {
            "application/vnd.jupyter.widget-view+json": {
              "model_id": "d02b225354f048d78d328f03dc84f204",
              "version_major": 2,
              "version_minor": 0
            },
            "text/plain": [
              "HBox(children=(IntProgress(value=0, bar_style='success'), Label(value='')))"
            ]
          },
          "metadata": {},
          "output_type": "display_data"
        },
        {
          "name": "stdout",
          "output_type": "stream",
          "text": [
            "+-----------------------------------------------------------------------------------------------------------------------------------------------------------------------+\n",
            "|claim_data                                                                                                                                                             |\n",
            "+-----------------------------------------------------------------------------------------------------------------------------------------------------------------------+\n",
            "|{\"claimDetail\":[{\"chargeAmount\":1.25,\"units\":1},{\"chargeAmount\":2,\"units\":1}],\"claimHeader\":{\"claimId\":\"ABC123456789\",\"lineOfBusiness\":\"Medicaid\",\"totalCharges\":3.25}}|\n",
            "+-----------------------------------------------------------------------------------------------------------------------------------------------------------------------+\n",
            "\n",
            "root\n",
            " |-- claim_data: variant (nullable = false)\n",
            "\n"
          ]
        }
      ],
      "source": [
        "# Create the same data using VARIANT type (schema-less)\n",
        "claims_json_data = '''\n",
        "{\n",
        "  \"claimHeader\": {\n",
        "    \"claimId\": \"ABC123456789\",\n",
        "    \"lineOfBusiness\": \"Medicaid\", \n",
        "    \"totalCharges\": 3.25\n",
        "  },\n",
        "  \"claimDetail\": [\n",
        "    {\"chargeAmount\": 1.25, \"units\": 1.00},\n",
        "    {\"chargeAmount\": 2.00, \"units\": 1.00}\n",
        "  ]\n",
        "}\n",
        "'''\n",
        "\n",
        "# Create DataFrame with VARIANT column using parse_json\n",
        "df_variant = spark.sql(f\"\"\"\n",
        "  SELECT parse_json('{claims_json_data}') as claim_data\n",
        "\"\"\")\n",
        "\n",
        "# Create a view for easier querying\n",
        "df_variant.createOrReplaceTempView(\"myClaimsTableVariant\")\n",
        "\n",
        "# Display the VARIANT data\n",
        "print(\"Created VARIANT data:\")\n",
        "df_variant.show(truncate=False)\n",
        "df_variant.printSchema()\n"
      ]
    },
    {
      "cell_type": "markdown",
      "metadata": {},
      "source": [
        "### 2.2 VARIANT Querying: Basic Field Access\n",
        "\n",
        "VARIANT data uses different syntax for field access and querying. Let's explore the modern approach:\n"
      ]
    },
    {
      "cell_type": "markdown",
      "metadata": {},
      "source": [
        "VARIANT data uses different syntax for field access. Let's see how to query the same fields:\n"
      ]
    },
    {
      "cell_type": "code",
      "execution_count": 6,
      "metadata": {
        "vscode": {
          "languageId": "sql"
        }
      },
      "outputs": [
        {
          "data": {
            "application/vnd.jupyter.widget-view+json": {
              "model_id": "611adb1228f04afd951909efe3b7c3c4",
              "version_major": 2,
              "version_minor": 0
            },
            "text/plain": [
              "HBox(children=(IntProgress(value=0, bar_style='success'), Label(value='')))"
            ]
          },
          "metadata": {},
          "output_type": "display_data"
        },
        {
          "data": {
            "text/html": [
              "<table border=\"1\" class=\"dataframe\">\n",
              "  <thead>\n",
              "    <tr style=\"text-align: right;\">\n",
              "      <th></th>\n",
              "      <th>claimId</th>\n",
              "      <th>lineOfBusiness</th>\n",
              "      <th>totalCharges</th>\n",
              "    </tr>\n",
              "  </thead>\n",
              "  <tbody>\n",
              "    <tr>\n",
              "      <th>0</th>\n",
              "      <td>ABC123456789</td>\n",
              "      <td>Medicaid</td>\n",
              "      <td>3.25</td>\n",
              "    </tr>\n",
              "  </tbody>\n",
              "</table>"
            ],
            "text/plain": [
              "DataFrame[claimId: string, lineOfBusiness: string, totalCharges: double]"
            ]
          },
          "execution_count": 6,
          "metadata": {},
          "output_type": "execute_result"
        }
      ],
      "source": [
        "%sql\n",
        "-- VARIANT field access uses colon syntax\n",
        "SELECT \n",
        "    claim_data:claimHeader.claimId::string AS claimId,\n",
        "    claim_data:claimHeader.lineOfBusiness::string AS lineOfBusiness,\n",
        "    claim_data:claimHeader.totalCharges::double AS totalCharges\n",
        "FROM myClaimsTableVariant\n"
      ]
    },
    {
      "cell_type": "markdown",
      "metadata": {},
      "source": [
        "### 2.3 VARIANT Querying: Exploding Arrays\n",
        "\n",
        "For VARIANT data, we use `variant_explode()` instead of `explode()`:\n"
      ]
    },
    {
      "cell_type": "code",
      "execution_count": null,
      "metadata": {
        "vscode": {
          "languageId": "sql"
        }
      },
      "outputs": [],
      "source": [
        "%sql\n",
        "-- VARIANT array explosion\n",
        "SELECT \n",
        "    claim_data:claimHeader.claimId::string AS claimId,\n",
        "    claim_data:claimHeader.lineOfBusiness::string AS lineOfBusiness,\n",
        "    detail.value:chargeAmount::double AS chargeAmount,\n",
        "    detail.value:units::double AS units\n",
        "FROM myClaimsTableVariant,\n",
        "    LATERAL variant_explode(claim_data:claimDetail) AS detail\n"
      ]
    },
    {
      "cell_type": "markdown",
      "metadata": {},
      "source": [
        "## 3. Higher-Order Functions: The Most Efficient Approach 🚀\n",
        "\n",
        "Higher-order functions provide the most efficient way to work with nested data by avoiding row explosion. Let's explore these powerful functions for both struct and VARIANT data.\n"
      ]
    },
    {
      "cell_type": "markdown",
      "metadata": {},
      "source": [
        "### 3.1 Struct Higher-Order Functions\n",
        "\n",
        "Instead of exploding rows, we can use `aggregate()` to calculate totals directly:\n"
      ]
    },
    {
      "cell_type": "code",
      "execution_count": 7,
      "metadata": {
        "vscode": {
          "languageId": "sql"
        }
      },
      "outputs": [
        {
          "data": {
            "text/html": [
              "<table border=\"1\" class=\"dataframe\">\n",
              "  <thead>\n",
              "    <tr style=\"text-align: right;\">\n",
              "      <th></th>\n",
              "      <th>claimId</th>\n",
              "      <th>lineOfBusiness</th>\n",
              "      <th>original_totalCharges</th>\n",
              "      <th>calculated_totalCharges</th>\n",
              "    </tr>\n",
              "  </thead>\n",
              "  <tbody>\n",
              "    <tr>\n",
              "      <th>0</th>\n",
              "      <td>ABC123456789</td>\n",
              "      <td>Medicaid</td>\n",
              "      <td>3.25</td>\n",
              "      <td>3.25</td>\n",
              "    </tr>\n",
              "  </tbody>\n",
              "</table>"
            ],
            "text/plain": [
              "DataFrame[claimId: string, lineOfBusiness: string, original_totalCharges: double, calculated_totalCharges: double]"
            ]
          },
          "execution_count": 7,
          "metadata": {},
          "output_type": "execute_result"
        }
      ],
      "source": [
        "%sql\n",
        "-- Struct Higher-Order Function Example\n",
        "SELECT \n",
        "    claimHeader.claimId,\n",
        "    claimHeader.lineOfBusiness,\n",
        "    claimHeader.totalCharges as original_totalCharges,\n",
        "    aggregate(claimDetail, CAST(0.0 AS DOUBLE), (acc, detail) -> acc + detail.chargeAmount * detail.units) as calculated_totalCharges\n",
        "FROM myClaimsTable\n"
      ]
    },
    {
      "cell_type": "markdown",
      "metadata": {},
      "source": [
        "### 3.2 VARIANT Higher-Order Functions\n",
        "\n",
        "For VARIANT data, we need to use `variant_explode()` with traditional aggregation since `aggregate()` doesn't work directly with VARIANT data:\n"
      ]
    },
    {
      "cell_type": "code",
      "execution_count": 8,
      "metadata": {
        "vscode": {
          "languageId": "sql"
        }
      },
      "outputs": [
        {
          "data": {
            "text/html": [
              "<table border=\"1\" class=\"dataframe\">\n",
              "  <thead>\n",
              "    <tr style=\"text-align: right;\">\n",
              "      <th></th>\n",
              "      <th>claimId</th>\n",
              "      <th>lineOfBusiness</th>\n",
              "      <th>originalTotal</th>\n",
              "      <th>calculatedTotal</th>\n",
              "    </tr>\n",
              "  </thead>\n",
              "  <tbody>\n",
              "    <tr>\n",
              "      <th>0</th>\n",
              "      <td>ABC123456789</td>\n",
              "      <td>Medicaid</td>\n",
              "      <td>3.25</td>\n",
              "      <td>3.25</td>\n",
              "    </tr>\n",
              "  </tbody>\n",
              "</table>"
            ],
            "text/plain": [
              "DataFrame[claimId: string, lineOfBusiness: string, originalTotal: double, calculatedTotal: double]"
            ]
          },
          "execution_count": 8,
          "metadata": {},
          "output_type": "execute_result"
        }
      ],
      "source": [
        "%sql\n",
        "-- VARIANT Aggregation Example (Correct Approach)\n",
        "-- Note: aggregate() doesn't work directly with VARIANT data\n",
        "-- Use variant_explode() with traditional aggregation instead\n",
        "SELECT \n",
        "    claim_data:claimHeader.claimId::string AS claimId,\n",
        "    claim_data:claimHeader.lineOfBusiness::string AS lineOfBusiness,\n",
        "    claim_data:claimHeader.totalCharges::double AS originalTotal,\n",
        "    SUM(detail.value:chargeAmount::double * detail.value:units::double) AS calculatedTotal\n",
        "FROM myClaimsTableVariant,\n",
        "    LATERAL variant_explode(claim_data:claimDetail) AS detail\n",
        "GROUP BY \n",
        "    claim_data:claimHeader.claimId::string,\n",
        "    claim_data:claimHeader.lineOfBusiness::string,\n",
        "    claim_data:claimHeader.totalCharges::double\n"
      ]
    },
    {
      "cell_type": "markdown",
      "metadata": {},
      "source": [
        "## 4. Approach Comparison & Recommendations\n",
        "\n",
        "### 📊 Struct vs VARIANT Comparison\n",
        "\n",
        "| Aspect | Struct | VARIANT |\n",
        "|--------|--------|---------|\n",
        "| **Schema** | Explicit, defined at creation | Implicit, inferred from data |\n",
        "| **Type Safety** | Strong typing, compile-time checks | Runtime type checking |\n",
        "| **Performance** | Faster for known structures | Slightly slower due to type inference |\n",
        "| **Flexibility** | Fixed schema, requires migration | Schema evolution friendly |\n",
        "| **Query Syntax** | Dot notation (`field.subfield`) | Colon notation (`field:subfield`) |\n",
        "| **Array Functions** | `explode()` | `variant_explode()` |\n",
        "| **Higher-Order Functions** | Direct `aggregate()` support | Requires `variant_explode()` + traditional aggregation |\n",
        "| **Best For** | Known, stable schemas | Semi-structured, evolving data |\n",
        "\n",
        "### 🎯 Best Practices & Recommendations\n",
        "\n",
        "1. **For Structured Data**: Use struct with higher-order functions (`aggregate`, `transform`, `filter`)\n",
        "2. **For Semi-Structured/JSON**: Use VARIANT data type with `variant_explode()` (Runtime 15.3+)\n",
        "3. **For Migration**: Replace `LATERAL VIEW` with modern table-valued function syntax\n",
        "4. **For Performance**: Higher-order functions avoid row explosion and are most efficient\n",
        "5. **For Schema Evolution**: VARIANT provides flexibility for changing data structures\n",
        "6. **For Readability**: Choose the approach your team is most comfortable with\n",
        "\n",
        "### 📚 References\n",
        "\n",
        "- [Databricks LATERAL VIEW Documentation](https://learn.microsoft.com/en-us/azure/databricks/sql/language-manual/sql-ref-syntax-qry-select-lateral-view)\n",
        "- [Modern Table Reference Syntax](https://learn.microsoft.com/en-us/azure/databricks/sql/language-manual/sql-ref-syntax-qry-select-table-reference)\n",
        "- [VARIANT Data Type Documentation](https://learn.microsoft.com/en-us/azure/databricks/semi-structured/variant)\n",
        "- [Higher-Order Functions in Spark SQL](https://spark.apache.org/docs/latest/sql-ref-functions-builtin.html#higher-order-functions)\n",
        "\n",
        "---\n",
        "\n",
        "**💡 Pro Tips**: \n",
        "- **For structured data**: Start with higher-order functions - they're most performant\n",
        "- **For JSON/APIs**: Use VARIANT data type for flexibility and easier schema evolution  \n",
        "- **For migration**: Move from LATERAL VIEW → modern LATERAL → higher-order functions\n",
        "- **Performance matters**: Higher-order functions > modern LATERAL > VARIANT (best)\n"
      ]
    }
  ],
  "metadata": {
    "kernelspec": {
      "display_name": "azure_databricks",
      "language": "python",
      "name": "python3"
    },
    "language_info": {
      "codemirror_mode": {
        "name": "ipython",
        "version": 3
      },
      "file_extension": ".py",
      "mimetype": "text/x-python",
      "name": "python",
      "nbconvert_exporter": "python",
      "pygments_lexer": "ipython3",
      "version": "3.12.0"
    }
  },
  "nbformat": 4,
  "nbformat_minor": 2
}
